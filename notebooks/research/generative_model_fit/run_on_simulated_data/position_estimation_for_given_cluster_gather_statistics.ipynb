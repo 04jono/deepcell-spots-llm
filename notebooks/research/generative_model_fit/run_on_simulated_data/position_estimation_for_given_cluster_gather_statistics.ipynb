{
 "cells": [
  {
   "cell_type": "markdown",
   "metadata": {},
   "source": [
    "# Gather statistics about iterative point position & tagger precision estimation procedue"
   ]
  },
  {
   "cell_type": "markdown",
   "metadata": {},
   "source": [
    "Perform $N_e$ experiments, in which data is simulated and used for the estimation procedure:\n",
    "\n",
    "Simulate points $x_j$, tags $x_{ji} \\sim N(x_j,\\sigma_i^2)$ for N points ($j=1,...,N$) and $N_t$ taggers ($i=1,...,N_t$).\n",
    "\n",
    "Peform the estimation procedure, and gather data after convergence:\n",
    "1. The MSE for the estimation of $x_j$ (using the estimated sigmas, the real sigmas, and an equal-weight average)\n",
    "2. The MSE for the estimation of $\\sigma_i$\n",
    "\n",
    "Gather data for different $N_t$, $\\beta$."
   ]
  },
  {
   "cell_type": "code",
   "execution_count": 78,
   "metadata": {},
   "outputs": [],
   "source": [
    "import numpy as np\n",
    "from numpy import linalg as LA\n",
    "import matplotlib.pyplot as plt\n",
    "import scipy"
   ]
  },
  {
   "cell_type": "markdown",
   "metadata": {},
   "source": [
    "### Define functions that 1. Simulate the data 2. Run the estimation procedure"
   ]
  },
  {
   "cell_type": "code",
   "execution_count": 2,
   "metadata": {},
   "outputs": [],
   "source": [
    "def simulate_data(N,Nt):\n",
    "    ''' Simulate ground truth points, tagger properties, and tags\n",
    "    Args:\n",
    "    N (int): The number of ground truth points to simulate\n",
    "    Nt (ind): The number of taggers\n",
    "    \n",
    "    Returns:\n",
    "    gt_pos: a (N,2) np.array with ground truth positions in 2D\n",
    "    sigma_sq: a length Nt np.array containing sigma**2 of tagger i in index i\n",
    "    clusters: length N array. clusters[i][0]: a list of taggers that tagged the i-th gt point,\n",
    "    clusters[i][1]: the tags generated for the i-th gt point\n",
    "    '''\n",
    "    \n",
    "    L = 100 # gt points will be in [0,L]x[0,L]\n",
    "    \n",
    "    # properties of taggers\n",
    "    # draw the values of the pi's from a uniform distribution in [0,1]\n",
    "    p = np.random.uniform(low=1, high=1, size=(Nt)) #p[i] is the detection probability of tagger i\n",
    "    sigma_sq = np.random.uniform(low=0.5, high=3, size=(Nt))**2 # sigma_sq[i] is the var of position tagged by tagger i\n",
    "    \n",
    "    # draw ground truth position uniformly in [0,L] x [0,L]\n",
    "    gt_pos = np.random.uniform(low=0,high=L,size=(N,2))\n",
    "    \n",
    "    # simulate tags for each of the clusters\n",
    "    clusters = [None]*N # if there are no tags for gt point k, clusters[k] will remain None\n",
    "    cluster_is_tagged = [False]*N # cluster_is_tagged[k]==True iff there is at least one tag for gt point k\n",
    "    for k in range(N):\n",
    "        is_tagged = [np.random.binomial(n=1,p=p[i]) for i in range(Nt)]\n",
    "        tagged_ind = np.where(is_tagged)[0]\n",
    "        # if no tags exist, don't save this cluster\n",
    "        if any(is_tagged):\n",
    "            #tagged_ind = list(range(Nt))\n",
    "            tags = np.zeros((len(tagged_ind),2))\n",
    "            for j,i in enumerate(tagged_ind): # loop over tags that exist\n",
    "                # draw position from normal distribution\n",
    "                tags[j,:] = np.random.multivariate_normal(mean=gt_pos[k,:],cov=sigma_sq[i]*np.identity(2))\n",
    "            clusters[k] = (tagged_ind, tags)\n",
    "            cluster_is_tagged[k] = True\n",
    "    \n",
    "    # only worked with tagged points - through away the untagged ones\n",
    "    Neffective = sum(cluster_is_tagged) # the number of tagged gt points\n",
    "    if Neffective<N:\n",
    "        gt_pos = gt_pos[cluster_is_tagged,:]\n",
    "        clusters = np.array(clusters)\n",
    "        clusters = clusters[cluster_is_tagged]\n",
    "    \n",
    "    return sigma_sq, gt_pos, clusters"
   ]
  },
  {
   "cell_type": "code",
   "execution_count": 3,
   "metadata": {},
   "outputs": [],
   "source": [
    "# given sigma_sq_est, estimate the gt position\n",
    "def update_pos(clusters, sigma_sq_est, N, beta=0):\n",
    "    # beta = regularization parameter to prevent weight divergence to infinity\n",
    "    gt_pos_est = np.zeros((N,2))\n",
    "    for k in range(N): # loop over clusters\n",
    "        tagged_ind, tags = clusters[k]\n",
    "        weights = np.expand_dims(1/(sigma_sq_est[tagged_ind]+beta), axis=-1)\n",
    "        gt_pos_est[k,:] = np.sum(tags*weights,axis=0) / np.sum(weights)\n",
    "    return gt_pos_est\n",
    "\n",
    "def update_sigma_sq(clusters, gt_pos_est, N, Nt):\n",
    "    # given estimated positions, estimate sigma_sq[i]\n",
    "    # for each cluster, accumulate data for all tags that exist.\n",
    "    # keep count of how many points have from each, then divide\n",
    "    s = np.zeros(Nt) # s[i] = sum over (x-gt)**2 for tagger i (2D since have x,y)\n",
    "    count = np.zeros(Nt) # count[i] = number of data points for tagger i\n",
    "    for k in range(N): # loop over clusters\n",
    "        tagged_ind, tags = clusters[k]\n",
    "        gt_pos_est_k = gt_pos_est[k,:]\n",
    "        shifted_tags = tags - gt_pos_est_k\n",
    "        s[tagged_ind] += np.sum(shifted_tags**2, axis=1)\n",
    "        count[tagged_ind] += 2 # summed samples (each point gives 1 sample for x, 1 for y)\n",
    "\n",
    "    s = s / (count-1) # estimator of sigma squared\n",
    "    # lower bound possible s values:\n",
    "    #s_sq_min = 0.1\n",
    "    #s[s<s_sq_min] = s_sq_min\n",
    "    return s #sigma_sq_est"
   ]
  },
  {
   "cell_type": "code",
   "execution_count": 4,
   "metadata": {},
   "outputs": [],
   "source": [
    "def estimate_positions_and_sigmas(N,Nt,clusters,beta):\n",
    "    ''' Perform iterations to estimate the positions and sigmas.\n",
    "    Args:\n",
    "        clusters: length N array. clusters[i][0]: a list of taggers that tagged the i-th gt point,\n",
    "            clusters[i][1]: the tags generated for the i-th gt point\n",
    "        diff_thresh (float): a threshold for determining convergence\n",
    "            (small number below which can say the algorithm converged)\n",
    "        beta: regulrization parameter\n",
    "    \n",
    "    Returns:\n",
    "        gt_pos_est, sigma_sq_est - estimates of gt positions, sigmas\n",
    "    '''\n",
    "    # set estimates to initial values\n",
    "    #p_est = 0.7*np.ones(Nt)\n",
    "    sigma_sq_est = 1*np.ones(Nt)\n",
    "    gt_pos_est = np.zeros((N,2))\n",
    "    \n",
    "    diff_thresh = 1e-10\n",
    "    counter = 0\n",
    "    Nsteps_max= 1000 # if no convergence until reached, exit and display message\n",
    "\n",
    "    # perform first step of gt and sigma estimation\n",
    "    gt_pos_est_prev = gt_pos_est # save previous estimate\n",
    "    gt_pos_est = update_pos(clusters, sigma_sq_est, N, beta=beta)\n",
    "    sigma_sq_est = update_sigma_sq(clusters, gt_pos_est, N, Nt)\n",
    "\n",
    "    while LA.norm(gt_pos_est - gt_pos_est_prev)>diff_thresh:\n",
    "        gt_pos_est_prev = gt_pos_est\n",
    "        gt_pos_est = update_pos(clusters, sigma_sq_est, N, beta=beta)\n",
    "        sigma_sq_est = update_sigma_sq(clusters, gt_pos_est, N, Nt)\n",
    "\n",
    "        counter += 1\n",
    "        if counter==Nsteps_max:\n",
    "            print('Exited without converging after ' + str(Nsteps_max) + ' steps.')\n",
    "            break\n",
    "\n",
    "        #print(counter, LA.norm(gt_pos_est - gt_pos_est_prev))\n",
    "    #else:\n",
    "        #print('Converged after ', counter, ' steps.')\n",
    "\n",
    "    \n",
    "    return gt_pos_est, sigma_sq_est"
   ]
  },
  {
   "cell_type": "markdown",
   "metadata": {},
   "source": [
    "### Set parameters, initialize variables to collect results"
   ]
  },
  {
   "cell_type": "code",
   "execution_count": 110,
   "metadata": {},
   "outputs": [],
   "source": [
    "#Ns = 1000 # number of repeats for each parameter value\n",
    "Ns = 30\n",
    "N = 2000 # number of points simulated in each instance\n",
    "Nt = 3 # number of taggers\n",
    "beta_list = np.arange(0,2,0.2)\n",
    "#beta_list = np.array([0,0.25,0.5,0.75,1])\n",
    "Nbeta = len(beta_list)"
   ]
  },
  {
   "cell_type": "code",
   "execution_count": 111,
   "metadata": {},
   "outputs": [],
   "source": [
    "# beta = 1\n",
    "# sigma_sq, gt_pos, clusters = simulate_data(N,Nt)\n",
    "# gt_pos_est, sigma_sq_est = estimate_positions_and_sigmas(N,Nt,clusters,beta)"
   ]
  },
  {
   "cell_type": "code",
   "execution_count": 112,
   "metadata": {},
   "outputs": [],
   "source": [
    "# collect stats\n",
    "# initialize variables\n",
    "min_sigma_sq = np.zeros((Ns,Nbeta))\n",
    "pos_mse = np.zeros((Ns,Nbeta))\n",
    "sigma_sq_mse = np.zeros((Ns,Nbeta))\n",
    "\n",
    "pos_mse_real_sigma = np.zeros((Ns))\n",
    "pos_mse_naive_average = np.zeros((Ns))"
   ]
  },
  {
   "cell_type": "code",
   "execution_count": 113,
   "metadata": {},
   "outputs": [
    {
     "name": "stdout",
     "output_type": "stream",
     "text": [
      "1869.244151353836\n"
     ]
    }
   ],
   "source": [
    "import time\n",
    "t = time.time()\n",
    "\n",
    "# for each instance of simulated data, perform the estimation with varying beta\n",
    "for i in range(Ns):\n",
    "    sigma_sq, gt_pos, clusters = simulate_data(N,Nt) # simulate data\n",
    "    \n",
    "    for j, beta in enumerate(beta_list):\n",
    "        gt_pos_est, sigma_sq_est = estimate_positions_and_sigmas(N,Nt,clusters,beta) # perform estimation\n",
    "        \n",
    "        # collect stats about estimation result\n",
    "        min_sigma_sq[i,j] = min(sigma_sq_est)\n",
    "\n",
    "        SE_pos_est = np.sum((gt_pos_est - gt_pos)**2,axis=1)\n",
    "        pos_mse[i,j] = np.mean(SE_pos_est)\n",
    "        \n",
    "        sigma_diff = sigma_sq - sigma_sq_est\n",
    "        sigma_sq_mse[i,j] = np.mean(sigma_diff**2)\n",
    "        \n",
    "    # collect stats about instance of simulated data\n",
    "    gt_pos_est_real_s = update_pos(clusters, sigma_sq, N)\n",
    "    SE_real_s_est = np.sum((gt_pos_est_real_s - gt_pos)**2,axis=1)\n",
    "    pos_mse_real_sigma[i] = np.mean(SE_real_s_est)\n",
    "\n",
    "    gt_pos_est_equal_s = update_pos(clusters, np.ones(sigma_sq.shape), N)\n",
    "    SE_equal_s_est = np.sum((gt_pos_est_equal_s - gt_pos)**2,axis=1)\n",
    "    pos_mse_naive_average[i] = np.mean(SE_equal_s_est)\n",
    "\n",
    "elapsed = time.time() - t\n",
    "print(elapsed/60)"
   ]
  },
  {
   "cell_type": "markdown",
   "metadata": {},
   "source": [
    "## plot results"
   ]
  },
  {
   "cell_type": "code",
   "execution_count": 114,
   "metadata": {},
   "outputs": [
    {
     "data": {
      "image/png": "[encoded data removed]",
      "text/plain": [
       "<Figure size 432x288 with 1 Axes>"
      ]
     },
     "metadata": {
      "needs_background": "light"
     },
     "output_type": "display_data"
    }
   ],
   "source": [
    "mean_min_sigma = np.mean(min_sigma_sq, axis=0) # mean over instances, as function of beta\n",
    "plt.plot(beta_list,mean_min_sigma,'.b')\n",
    "plt.xlabel('$\\\\beta$',fontsize=16)\n",
    "plt.ylabel('$min_i \\hat{\\sigma}_i$',fontsize=16);\n",
    "plt.xticks(fontsize=14)\n",
    "plt.yticks(fontsize=14);"
   ]
  },
  {
   "cell_type": "code",
   "execution_count": 115,
   "metadata": {},
   "outputs": [
    {
     "data": {
      "image/png": "[encoded data removed]",
      "text/plain": [
       "<Figure size 432x288 with 1 Axes>"
      ]
     },
     "metadata": {
      "needs_background": "light"
     },
     "output_type": "display_data"
    }
   ],
   "source": [
    "from scipy import stats\n",
    "\n",
    "mean_pos_mse = np.mean(pos_mse,axis=0) # mean over Ns simulated data instances\n",
    "mean_pos_mse_real_sigma = np.mean(pos_mse_real_sigma)\n",
    "mean_pos_mse_naive_average = np.mean(pos_mse_naive_average)\n",
    "\n",
    "std_pos_mse = np.std(pos_mse,axis=0) # mean over Ns simulated data instances\n",
    "std_pos_mse_real_sigma = np.std(pos_mse_real_sigma)\n",
    "std_pos_mse_naive_average = np.std(pos_mse_naive_average)\n",
    "\n",
    "sem_pos_mse = scipy.stats.sem(pos_mse,axis=0) # mean over Ns simulated data instances\n",
    "sem_pos_mse_real_sigma = scipy.stats.sem(pos_mse_real_sigma)\n",
    "sem_pos_mse_naive_average = scipy.stats.sem(pos_mse_naive_average)\n",
    "\n",
    "plt.figure()\n",
    "h = [None]*3\n",
    "h[0], = plt.plot(beta_list,mean_pos_mse,'.--b')\n",
    "h[1], = plt.plot(beta_list,np.ones(len(beta_list))*mean_pos_mse_real_sigma,'--g')\n",
    "h[2], = plt.plot(beta_list,np.ones(len(beta_list))*mean_pos_mse_naive_average,'--r')\n",
    "\n",
    "plt.fill_between(beta_list, mean_pos_mse - sem_pos_mse, mean_pos_mse + sem_pos_mse, color='blue', alpha=0.2)\n",
    "#plt.errorbar(beta_list,mean_pos_mse,sem_pos_mse)\n",
    "plt.fill_between(beta_list, np.ones(len(beta_list))*mean_pos_mse_real_sigma - np.ones(len(beta_list))*sem_pos_mse_real_sigma, np.ones(len(beta_list))*mean_pos_mse_real_sigma + np.ones(len(beta_list))*sem_pos_mse_real_sigma, color='green', alpha=0.2)\n",
    "plt.fill_between(beta_list, np.ones(len(beta_list))*mean_pos_mse_naive_average - np.ones(len(beta_list))*sem_pos_mse_naive_average, np.ones(len(beta_list))*mean_pos_mse_naive_average + np.ones(len(beta_list))*sem_pos_mse_naive_average, color='red', alpha=0.2)\n",
    "\n",
    "plt.xlabel('$\\\\beta$',fontsize=16)\n",
    "plt.ylabel('MSE of $x_j$ estimate',fontsize=16);\n",
    "plt.xticks(fontsize=14)\n",
    "plt.yticks(fontsize=14);\n",
    "plt.legend(h, ('est','real $\\sigma_i$','naive'));"
   ]
  },
  {
   "cell_type": "code",
   "execution_count": 116,
   "metadata": {},
   "outputs": [
    {
     "data": {
      "image/png": "[encoded data removed]",
      "text/plain": [
       "<Figure size 432x288 with 1 Axes>"
      ]
     },
     "metadata": {
      "needs_background": "light"
     },
     "output_type": "display_data"
    }
   ],
   "source": [
    "mean_sigma_sq_mse = np.mean(sigma_sq_mse, axis=0) # mean over instances, as function of beta\n",
    "sem_sigma_sq_mse = scipy.stats.sem(sigma_sq_mse, axis=0) # mean over instances, as function of beta\n",
    "\n",
    "#plt.plot(beta_list,mean_sigma_sq_mse,'.b')\n",
    "plt.errorbar(beta_list,mean_sigma_sq_mse,sem_sigma_sq_mse,fmt='o')\n",
    "plt.xlabel('$\\\\beta$',fontsize=16)\n",
    "plt.ylabel('$MSE (\\hat{\\sigma}_i)$',fontsize=16);\n",
    "plt.xticks(fontsize=14)\n",
    "plt.yticks(fontsize=14);"
   ]
  },
  {
   "cell_type": "code",
   "execution_count": null,
   "metadata": {},
   "outputs": [],
   "source": []
  },
  {
   "cell_type": "code",
   "execution_count": null,
   "metadata": {},
   "outputs": [],
   "source": []
  }
 ],
 "metadata": {
  "kernelspec": {
   "display_name": "Python 3",
   "language": "python",
   "name": "python3"
  },
  "language_info": {
   "codemirror_mode": {
    "name": "ipython",
    "version": 3
   },
   "file_extension": ".py",
   "mimetype": "text/x-python",
   "name": "python",
   "nbconvert_exporter": "python",
   "pygments_lexer": "ipython3",
   "version": "3.7.6"
  }
 },
 "nbformat": 4,
 "nbformat_minor": 2
}
