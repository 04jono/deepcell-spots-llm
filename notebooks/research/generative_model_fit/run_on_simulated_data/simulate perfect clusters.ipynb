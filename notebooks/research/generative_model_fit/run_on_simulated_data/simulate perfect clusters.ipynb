{
 "cells": [
  {
   "cell_type": "markdown",
   "metadata": {},
   "source": [
    "## Weakly Supervised Learning: a generative model for coordinate data"
   ]
  },
  {
   "cell_type": "markdown",
   "metadata": {},
   "source": [
    "### simulate data for testing an EM approach for learning a generative model"
   ]
  },
  {
   "cell_type": "markdown",
   "metadata": {},
   "source": [
    "Simulate each cluster separately. Simulate tags for N clusters, from Nt \"taggers\".\n",
    "1. gt position assumed to be (0,0)\n",
    "2. Draw with probability $p_i$ the i-th taggers tagged each point\n",
    "3. the position marked by the i-th tagger should be normally distributed with variance $\\sigma_i^2$ around the gt position"
   ]
  },
  {
   "cell_type": "code",
   "execution_count": 1,
   "metadata": {},
   "outputs": [],
   "source": [
    "import numpy as np\n",
    "from numpy import linalg as LA\n",
    "import matplotlib.pyplot as plt"
   ]
  },
  {
   "cell_type": "code",
   "execution_count": 2,
   "metadata": {},
   "outputs": [],
   "source": [
    "# parameters\n",
    "Nt = 10 # number of taggers\n",
    "N = 10000 #10000 # number of clusters to simulate\n",
    "beta = 1 # regularization parameter"
   ]
  },
  {
   "cell_type": "code",
   "execution_count": 3,
   "metadata": {},
   "outputs": [],
   "source": [
    "# properties of taggers\n",
    "# draw the values of the pi's from a uniform distribution in [0,1]\n",
    "p = np.random.uniform(low=1, high=1, size=(Nt)) #p[i] is the detection probability of tagger i\n",
    "sigma_sq = np.random.uniform(low=0.5, high=3, size=(Nt))**2 # sigma_sq[i] is the var of position tagged by tagger i"
   ]
  },
  {
   "cell_type": "code",
   "execution_count": 4,
   "metadata": {},
   "outputs": [],
   "source": [
    "# draw ground truth position uniformly in [0,L] x [0,L]\n",
    "gt_pos = np.random.uniform(low=0,high=100,size=(N,2))"
   ]
  },
  {
   "cell_type": "code",
   "execution_count": 5,
   "metadata": {},
   "outputs": [],
   "source": [
    "# simulate tags for each of the clusters\n",
    "clusters = [None]*N # if there are no tags for gt point k, clusters[k] will remain None\n",
    "cluster_is_tagged = [False]*N # cluster_is_tagged[k]==True iff there is at least one tag for gt point k\n",
    "for k in range(N):\n",
    "    is_tagged = [np.random.binomial(n=1,p=p[i]) for i in range(Nt)]\n",
    "    tagged_ind = np.where(is_tagged)[0]\n",
    "    # if no tags exist, don't save this cluster\n",
    "    if any(is_tagged):\n",
    "        #tagged_ind = list(range(Nt))\n",
    "        tags = np.zeros((len(tagged_ind),2))\n",
    "        for j,i in enumerate(tagged_ind): # loop over tags that exist\n",
    "            # draw position from normal distribution\n",
    "            tags[j,:] = np.random.multivariate_normal(mean=gt_pos[k,:],cov=sigma_sq[i]*np.identity(2))\n",
    "        clusters[k] = (tagged_ind, tags)\n",
    "        cluster_is_tagged[k] = True"
   ]
  },
  {
   "cell_type": "code",
   "execution_count": 6,
   "metadata": {},
   "outputs": [
    {
     "name": "stdout",
     "output_type": "stream",
     "text": [
      "N =  10000\n"
     ]
    }
   ],
   "source": [
    "# only worked with tagged points - through away the untagged ones\n",
    "Neffective = sum(cluster_is_tagged) # the number of tagged gt points\n",
    "if Neffective<N:\n",
    "    gt_pos = gt_pos[cluster_is_tagged,:]\n",
    "    clusters = np.array(clusters)\n",
    "    clusters = clusters[cluster_is_tagged]\n",
    "    N = Neffective # rename for convenience\n",
    "\n",
    "print('N = ',N)"
   ]
  },
  {
   "cell_type": "code",
   "execution_count": 7,
   "metadata": {},
   "outputs": [],
   "source": [
    "#plot tags\n",
    "# for k in range(N):\n",
    "#     tagged_ind, tags = clusters[k]\n",
    "#     plt.plot(tags[:,0],tags[:,1],'.')\n",
    "    \n",
    "# # plot gt positions\n",
    "# plt.plot(gt_pos[:,0],gt_pos[:,1],'xk')"
   ]
  },
  {
   "cell_type": "code",
   "execution_count": null,
   "metadata": {},
   "outputs": [],
   "source": []
  },
  {
   "cell_type": "markdown",
   "metadata": {},
   "source": [
    "### Perform EM algorithm to determine ground truth position (assuming true cluster)"
   ]
  },
  {
   "cell_type": "markdown",
   "metadata": {},
   "source": [
    "Iteratively:\n",
    "\n",
    "1. Update $\\hat{x}$ = estimation of ground truth position to be weighted average of tags\n",
    "2. Update estimated $\\sigma^2_i$ for each tagger i according to the estimated $\\hat{x}$ \n",
    "\n",
    "until convergence.\n",
    "Regularization is used in step 1 to prevent the weight of the lowest sigma $x_i$ to diverge to infinity ($\\sigma_i^2 \\to 0$)"
   ]
  },
  {
   "cell_type": "code",
   "execution_count": 8,
   "metadata": {},
   "outputs": [],
   "source": [
    "# given sigma_sq_est, estimate the gt position\n",
    "def update_pos(clusters, sigma_sq_est, N, beta=0):\n",
    "    # beta = regularization parameter to prevent weight divergence to infinity\n",
    "    gt_pos_est = np.zeros((N,2))\n",
    "    for k in range(N): # loop over clusters\n",
    "        tagged_ind, tags = clusters[k]\n",
    "        weights = np.expand_dims(1/(sigma_sq_est[tagged_ind]+beta), axis=-1)\n",
    "        gt_pos_est[k,:] = np.sum(tags*weights,axis=0) / np.sum(weights)\n",
    "    return gt_pos_est\n",
    "\n",
    "def update_sigma_sq(clusters, gt_pos_est, N, Nt):\n",
    "    # given estimated positions, estimate sigma_sq[i]\n",
    "    # for each cluster, accumulate data for all tags that exist.\n",
    "    # keep count of how many points have from each, then divide\n",
    "    s = np.zeros(Nt) # s[i] = sum over (x-gt)**2 for tagger i (2D since have x,y)\n",
    "    count = np.zeros(Nt) # count[i] = number of data points for tagger i\n",
    "    for k in range(N): # loop over clusters\n",
    "        tagged_ind, tags = clusters[k]\n",
    "        gt_pos_est_k = gt_pos_est[k,:]\n",
    "        shifted_tags = tags - gt_pos_est_k\n",
    "        s[tagged_ind] += np.sum(shifted_tags**2, axis=1)\n",
    "        count[tagged_ind] += 2 # summed samples (each point gives 1 sample for x, 1 for y)\n",
    "\n",
    "    s = s / (count-1) # estimator of sigma squared\n",
    "    # lower bound possible s values:\n",
    "    #s_sq_min = 0.1\n",
    "    #s[s<s_sq_min] = s_sq_min\n",
    "    return s #sigma_sq_est"
   ]
  },
  {
   "cell_type": "code",
   "execution_count": 9,
   "metadata": {},
   "outputs": [],
   "source": [
    "# set estimates to initial values\n",
    "#p_est = 0.7*np.ones(Nt)\n",
    "sigma_sq_est = 1*np.ones(Nt)\n",
    "gt_pos_est = np.zeros((N,2))"
   ]
  },
  {
   "cell_type": "code",
   "execution_count": 10,
   "metadata": {},
   "outputs": [
    {
     "name": "stdout",
     "output_type": "stream",
     "text": [
      "1 28.851343774418456\n",
      "2 3.6494780831585687\n",
      "3 0.4346612203266182\n",
      "4 0.05515858279350774\n",
      "5 0.007383583572619443\n",
      "6 0.0010223781995137532\n",
      "7 0.00014460308236877346\n",
      "8 2.0744285285857166e-05\n",
      "9 3.006352586413437e-06\n",
      "10 4.390936608030762e-07\n",
      "11 6.453103110619681e-08\n",
      "12 9.532279354965687e-09\n",
      "13 1.4141201622494608e-09\n",
      "14 2.1053831278034548e-10\n",
      "15 3.151885979073729e-11\n",
      "Converged after  15  steps.\n"
     ]
    }
   ],
   "source": [
    "# iteratively update estimate until convergence\n",
    "\n",
    "# collect data to plot later\n",
    "pos_list = []\n",
    "sigma_list = []\n",
    "sigma_list.append(sigma_sq_est) # initialization of sigma is used, that of positions is not\n",
    "\n",
    "diff_thresh = 1e-10\n",
    "counter = 0\n",
    "Nsteps_max= 1000 # if no convergence until reached, exit and display message\n",
    "\n",
    "# perform first step of gt and sigma estimation\n",
    "gt_pos_est_prev = gt_pos_est # save previous estimate\n",
    "gt_pos_est = update_pos(clusters, sigma_sq_est, N, beta=beta)\n",
    "pos_list.append(gt_pos_est)\n",
    "sigma_sq_est = update_sigma_sq(clusters, gt_pos_est, N, Nt)\n",
    "sigma_list.append(sigma_sq_est)\n",
    "\n",
    "while LA.norm(gt_pos_est - gt_pos_est_prev)>diff_thresh:\n",
    "    gt_pos_est_prev = gt_pos_est\n",
    "    gt_pos_est = update_pos(clusters, sigma_sq_est, N, beta=beta)\n",
    "    pos_list.append(gt_pos_est)\n",
    "    sigma_sq_est = update_sigma_sq(clusters, gt_pos_est, N, Nt)\n",
    "    sigma_list.append(sigma_sq_est)\n",
    "    \n",
    "    counter += 1\n",
    "    if counter==Nsteps_max:\n",
    "        print('Exited without converging after ' + str(Nsteps_max) + ' steps.')\n",
    "        break\n",
    "        \n",
    "    print(counter, LA.norm(gt_pos_est - gt_pos_est_prev))\n",
    "else:\n",
    "    print('Converged after ', counter, ' steps.')\n",
    "    \n",
    "    \n",
    "# cast results to np.array\n",
    "pos_list = np.array(pos_list)\n",
    "sigma_list = np.array(sigma_list)"
   ]
  },
  {
   "cell_type": "code",
   "execution_count": 11,
   "metadata": {},
   "outputs": [
    {
     "data": {
      "text/plain": [
       "0.6201259602220515"
      ]
     },
     "execution_count": 11,
     "metadata": {},
     "output_type": "execute_result"
    }
   ],
   "source": [
    "# check what is the minimal sigma squared - check for convergence to zero\n",
    "min(sigma_list[-1,...])"
   ]
  },
  {
   "cell_type": "code",
   "execution_count": 12,
   "metadata": {},
   "outputs": [
    {
     "name": "stdout",
     "output_type": "stream",
     "text": [
      "MSE: \n",
      "0.3405274974315274\n"
     ]
    }
   ],
   "source": [
    "# calculate mean distance between estimated positions and real positions\n",
    "last_pos_est = pos_list[-1,...]\n",
    "SE_pos_est = np.sum((last_pos_est - gt_pos)**2,axis=1)\n",
    "print('MSE: ')\n",
    "print(np.mean(SE_pos_est))"
   ]
  },
  {
   "cell_type": "code",
   "execution_count": 13,
   "metadata": {},
   "outputs": [
    {
     "name": "stdout",
     "output_type": "stream",
     "text": [
      "real sigma MSE: \n",
      "0.3226590724105161\n"
     ]
    }
   ],
   "source": [
    "# use real sigmas to estimage positions from tags\n",
    "gt_pos_est_real_s = update_pos(clusters, sigma_sq, N)\n",
    "SE_real_s_est = np.sum((gt_pos_est_real_s - gt_pos)**2,axis=1)\n",
    "np.mean(SE_real_s_est)\n",
    "print('real sigma MSE: ')\n",
    "print(np.mean(SE_real_s_est))"
   ]
  },
  {
   "cell_type": "code",
   "execution_count": 14,
   "metadata": {},
   "outputs": [
    {
     "name": "stdout",
     "output_type": "stream",
     "text": [
      "equal sigma MSE: \n",
      "0.5182683447776514\n"
     ]
    }
   ],
   "source": [
    "# use equal (all 1) sigmas to estimage positions from tags\n",
    "gt_pos_est_equal_s = update_pos(clusters, np.ones(sigma_sq.shape), N)\n",
    "SE_equal_s_est = np.sum((gt_pos_est_equal_s - gt_pos)**2,axis=1)\n",
    "np.mean(SE_equal_s_est)\n",
    "print('equal sigma MSE: ')\n",
    "print(np.mean(SE_equal_s_est))"
   ]
  },
  {
   "cell_type": "code",
   "execution_count": null,
   "metadata": {},
   "outputs": [],
   "source": []
  },
  {
   "cell_type": "markdown",
   "metadata": {},
   "source": [
    "#### plot cluster center convergence for a single cluster and coordinate"
   ]
  },
  {
   "cell_type": "code",
   "execution_count": 15,
   "metadata": {},
   "outputs": [
    {
     "data": {
      "image/png": "[encoded data removed]",
      "text/plain": [
       "<Figure size 432x288 with 1 Axes>"
      ]
     },
     "metadata": {
      "needs_background": "light"
     },
     "output_type": "display_data"
    }
   ],
   "source": [
    "# plot cluster center convergence for a single cluster and coordinate\n",
    "Ns = pos_list.shape[0] # number of saved steps\n",
    "coord = 0\n",
    "cluster = 0\n",
    "plt.plot(range(Ns),pos_list[:,cluster,coord],'.k')\n",
    "plt.plot(range(Ns),gt_pos[cluster,coord]*np.ones(Ns),'--k')\n",
    "plt.xlabel('step')\n",
    "plt.ylabel('$\\hat{x}_j, x_j$');"
   ]
  },
  {
   "cell_type": "markdown",
   "metadata": {},
   "source": [
    "#### plot sigma estimage convergence for a single tagger"
   ]
  },
  {
   "cell_type": "code",
   "execution_count": 16,
   "metadata": {},
   "outputs": [
    {
     "data": {
      "image/png": "[encoded data removed]",
      "text/plain": [
       "<Figure size 432x288 with 1 Axes>"
      ]
     },
     "metadata": {
      "needs_background": "light"
     },
     "output_type": "display_data"
    }
   ],
   "source": [
    "# plot sigma convergence for a single tagger\n",
    "tagger = 0\n",
    "plt.plot(range(Ns+1),sigma_list[:,tagger],'.k')\n",
    "plt.plot(range(Ns+1),sigma_sq[tagger]*np.ones(Ns+1),'--k')\n",
    "plt.xlabel('step')\n",
    "plt.ylabel('$\\sigma_j$');"
   ]
  },
  {
   "cell_type": "markdown",
   "metadata": {},
   "source": [
    "#### calculate and plot MSE of coordinate estimate (averaged over all points, 2 coordinates)"
   ]
  },
  {
   "cell_type": "code",
   "execution_count": 17,
   "metadata": {},
   "outputs": [],
   "source": [
    "# use real sigmas to estimate positions from tags\n",
    "gt_pos_est_real_s = update_pos(clusters, sigma_sq, N)\n",
    "dist_sq_real_s_est = np.sum((gt_pos_est_real_s - gt_pos)**2,axis=1)\n",
    "real_sigma_MSE = np.mean(dist_sq_real_s_est)\n",
    "\n",
    "# use equal (all 1) sigmas to estimate positions from tags\n",
    "gt_pos_est_equal_s = update_pos(clusters, np.ones(sigma_sq.shape), N)\n",
    "dist_sq_equal_s_est = np.sum((gt_pos_est_equal_s - gt_pos)**2,axis=1)\n",
    "equal_weight_MSE = np.mean(dist_sq_equal_s_est)"
   ]
  },
  {
   "cell_type": "code",
   "execution_count": 18,
   "metadata": {
    "scrolled": true
   },
   "outputs": [
    {
     "data": {
      "image/png": "[encoded data removed]",
      "text/plain": [
       "<Figure size 432x288 with 1 Axes>"
      ]
     },
     "metadata": {
      "needs_background": "light"
     },
     "output_type": "display_data"
    }
   ],
   "source": [
    "Ns = pos_list.shape[0] # number of saved steps\n",
    "pos_diff = pos_list - np.repeat(gt_pos[np.newaxis,:, :], Ns, axis=0)\n",
    "squared_dist = np.sum(pos_diff**2,axis=2)\n",
    "MSE = np.mean(squared_dist,axis=1)\n",
    "std_SE = np.std(squared_dist,axis=1)\n",
    "std_SEM = std_SE / np.sqrt(2*N)\n",
    "#plt.plot(range(Ns),mean_pos_diff,'.k')\n",
    "plt.errorbar(range(Ns), MSE, yerr=std_SEM, fmt='.',alpha=0.8)\n",
    "plt.xlabel('step',fontsize=16)\n",
    "plt.ylabel('$< (\\hat{x}_j - x_j)^2 >$',fontsize=16);\n",
    "plt.plot(range(Ns),np.ones(Ns)*real_sigma_MSE,'--g')\n",
    "plt.plot(range(Ns),np.ones(Ns)*equal_weight_MSE,'--r')\n",
    "plt.xticks(fontsize=14)\n",
    "plt.yticks(fontsize=14);"
   ]
  },
  {
   "cell_type": "code",
   "execution_count": 19,
   "metadata": {},
   "outputs": [
    {
     "data": {
      "image/png": "[encoded data removed]",
      "text/plain": [
       "<Figure size 432x288 with 1 Axes>"
      ]
     },
     "metadata": {
      "needs_background": "light"
     },
     "output_type": "display_data"
    }
   ],
   "source": [
    "# plot RMSE\n",
    "Ns = pos_list.shape[0] # number of saved steps\n",
    "pos_diff = pos_list - np.repeat(gt_pos[np.newaxis,:, :], Ns, axis=0)\n",
    "squared_dist = np.sum(pos_diff**2,axis=2)\n",
    "MSE = np.mean(squared_dist,axis=1)\n",
    "std_SE = np.std(squared_dist,axis=1)\n",
    "std_SEM = std_SE / np.sqrt(2*N)\n",
    "plt.plot(range(Ns),np.sqrt(MSE),'.k')\n",
    "#plt.errorbar(range(Ns), MSE, yerr=std_SEM, fmt='.',alpha=0.8)\n",
    "plt.xlabel('step',fontsize=16)\n",
    "plt.ylabel('RMSE',fontsize=16);\n",
    "plt.plot(range(Ns),np.ones(Ns)*np.sqrt(real_sigma_MSE),'--g')\n",
    "plt.plot(range(Ns),np.ones(Ns)*np.sqrt(equal_weight_MSE),'--r')\n",
    "plt.xticks(fontsize=14)\n",
    "plt.yticks(fontsize=14);"
   ]
  },
  {
   "cell_type": "markdown",
   "metadata": {},
   "source": [
    "#### calculate and plot MSE of sigma estimage (averaged over all taggers)"
   ]
  },
  {
   "cell_type": "code",
   "execution_count": 20,
   "metadata": {},
   "outputs": [
    {
     "data": {
      "image/png": "[encoded data removed]",
      "text/plain": [
       "<Figure size 432x288 with 1 Axes>"
      ]
     },
     "metadata": {
      "needs_background": "light"
     },
     "output_type": "display_data"
    }
   ],
   "source": [
    "Ns = pos_list.shape[0] # number of saved steps\n",
    "sigma_diff = sigma_list - np.repeat(sigma_sq[np.newaxis, :], Ns+1, axis=0)\n",
    "MSE_sigma = np.mean(sigma_diff**2,axis=1)\n",
    "std_SE_sigma = np.std(sigma_diff**2,axis=1)\n",
    "std_SEM_sigma = std_SE_sigma / np.sqrt(Nt)\n",
    "#plt.plot(range(Ns),mean_pos_diff,'.k')\n",
    "plt.errorbar(range(Ns+1), MSE_sigma, yerr=std_SEM_sigma, fmt='o')\n",
    "plt.xlabel('step',fontsize=16)\n",
    "plt.ylabel('$< (\\hat{\\sigma}_i - \\sigma_i)^2 >$',fontsize=16);\n",
    "plt.xticks(fontsize=14)\n",
    "plt.yticks(fontsize=14);"
   ]
  },
  {
   "cell_type": "code",
   "execution_count": 21,
   "metadata": {},
   "outputs": [
    {
     "data": {
      "image/png": "[encoded data removed]",
      "text/plain": [
       "<Figure size 432x288 with 1 Axes>"
      ]
     },
     "metadata": {
      "needs_background": "light"
     },
     "output_type": "display_data"
    }
   ],
   "source": [
    "plt.errorbar(range(Ns), MSE_sigma[1:], yerr=std_SEM_sigma[1:], fmt='o')\n",
    "plt.xlabel('step',fontsize=16)\n",
    "plt.ylabel('$< (\\hat{\\sigma}_i - \\sigma_i)^2 >$',fontsize=16);\n",
    "plt.xticks(fontsize=14)\n",
    "plt.yticks(fontsize=14);"
   ]
  },
  {
   "cell_type": "code",
   "execution_count": null,
   "metadata": {},
   "outputs": [],
   "source": []
  },
  {
   "cell_type": "code",
   "execution_count": null,
   "metadata": {},
   "outputs": [],
   "source": []
  },
  {
   "cell_type": "code",
   "execution_count": 22,
   "metadata": {
    "scrolled": false
   },
   "outputs": [
    {
     "data": {
      "image/png": "[encoded data removed]",
      "text/plain": [
       "<Figure size 576x432 with 1 Axes>"
      ]
     },
     "metadata": {
      "needs_background": "light"
     },
     "output_type": "display_data"
    }
   ],
   "source": [
    "# plot all sigmas on same axes\n",
    "color=plt.cm.rainbow(np.linspace(0,1,Nt))\n",
    "\n",
    "plt.figure(figsize=(8,6))\n",
    "for i,c in zip(range(Nt),color):\n",
    "    plt.plot(range(Ns+1),sigma_list[:,i],'.', c=c)\n",
    "    plt.plot(range(Ns+1),sigma_sq[i]*np.ones(Ns+1),'--', c=c)\n",
    "\n",
    "plt.xlabel('step',fontsize=16)\n",
    "plt.ylabel('$\\sigma_j$',fontsize=16);\n",
    "plt.xticks(fontsize=14)\n",
    "plt.yticks(fontsize=14);"
   ]
  },
  {
   "cell_type": "markdown",
   "metadata": {},
   "source": [
    "Why does sometimes the lowest sigma converge to 0?\n",
    "This means the cluster gt is estimated to be closer and closer to the most precise tag, causing a positive feedback loop where its position is estimated to be more and more precise"
   ]
  },
  {
   "cell_type": "code",
   "execution_count": 23,
   "metadata": {},
   "outputs": [
    {
     "data": {
      "text/plain": [
       "[<matplotlib.lines.Line2D at 0x1de87fdab88>]"
      ]
     },
     "execution_count": 23,
     "metadata": {},
     "output_type": "execute_result"
    },
    {
     "data": {
      "image/png": "[encoded data removed]",
      "text/plain": [
       "<Figure size 432x288 with 1 Axes>"
      ]
     },
     "metadata": {
      "needs_background": "light"
     },
     "output_type": "display_data"
    }
   ],
   "source": [
    "# plot one cluster gt, tags and estimated position\n",
    "k = 7 # cluster ind\n",
    "tagged_ind, tags = clusters[k]\n",
    "plt.plot(tags[:,0],tags[:,1],'.')\n",
    "    \n",
    "# plot gt positions\n",
    "plt.plot(gt_pos[k,0],gt_pos[k,1],'xk', markersize=10)\n",
    "\n",
    "# plot gt est\n",
    "plt.plot(gt_pos_est[k,0],gt_pos_est[k,1],'+b', markersize=10)"
   ]
  },
  {
   "cell_type": "code",
   "execution_count": 24,
   "metadata": {},
   "outputs": [],
   "source": [
    "# # plot estimated positions\n",
    "# plt.figure(figsize=(15,10))\n",
    "\n",
    "# # plot tags\n",
    "# for k in range(N):\n",
    "#     tagged_ind, tags = clusters[k]\n",
    "#     plt.plot(tags[:,0],tags[:,1],'.')\n",
    "    \n",
    "# # plot gt positions\n",
    "# plt.plot(gt_pos[:,0],gt_pos[:,1],'xk', markersize=10)\n",
    "\n",
    "# # plot gt est\n",
    "# plt.plot(gt_pos_est[:,0],gt_pos_est[:,1],'+b', markersize=10)"
   ]
  },
  {
   "cell_type": "code",
   "execution_count": null,
   "metadata": {},
   "outputs": [],
   "source": []
  },
  {
   "cell_type": "code",
   "execution_count": null,
   "metadata": {},
   "outputs": [],
   "source": []
  },
  {
   "cell_type": "code",
   "execution_count": null,
   "metadata": {},
   "outputs": [],
   "source": []
  }
 ],
 "metadata": {
  "kernelspec": {
   "display_name": "Python 3",
   "language": "python",
   "name": "python3"
  },
  "language_info": {
   "codemirror_mode": {
    "name": "ipython",
    "version": 3
   },
   "file_extension": ".py",
   "mimetype": "text/x-python",
   "name": "python",
   "nbconvert_exporter": "python",
   "pygments_lexer": "ipython3",
   "version": "3.7.6"
  }
 },
 "nbformat": 4,
 "nbformat_minor": 4
}
