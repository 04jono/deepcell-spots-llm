{
 "cells": [
  {
   "cell_type": "markdown",
   "metadata": {},
   "source": [
    "# Simulate Bernoulli distributed tags for Bernoulli distributed true/false clusters"
   ]
  },
  {
   "cell_type": "markdown",
   "metadata": {},
   "source": [
    "1. Simulate N clusters. With probability p, each cluster is a \"true positive\". With 1-p it is a \"false positive\".\n",
    "2. Simulate Nt tags (by Nt different taggers) for each cluster. These tags are 0/1 and denote the existence of a tag referring to each cluster by each tagger. Denote: $X_j=1$ if cluster $j$ is a true positive, $X_j=0$ otherwise.\n",
    "If a cluster if a true positive, tagger i tags the cluster with probability $p_i$.\n",
    "If a cluster if a false positive, tagger i tags the cluster with probability $q_i$.\n",
    "3. Perform iterative algorithm to estimate $X_j$, $p_i$, $q_i$."
   ]
  },
  {
   "cell_type": "code",
   "execution_count": 2,
   "metadata": {},
   "outputs": [],
   "source": [
    "import numpy as np\n",
    "from numpy import linalg as LA\n",
    "import matplotlib.pyplot as plt"
   ]
  },
  {
   "cell_type": "code",
   "execution_count": 70,
   "metadata": {},
   "outputs": [],
   "source": [
    "# parameters\n",
    "Nt = 3 # number of taggers\n",
    "N = 10000 #10000 # number of clusters to simulate\n",
    "p_gt = 0.8 # probability of a cluster to be a true positive"
   ]
  },
  {
   "cell_type": "markdown",
   "metadata": {},
   "source": [
    "## Simulate Data"
   ]
  },
  {
   "cell_type": "code",
   "execution_count": 71,
   "metadata": {},
   "outputs": [],
   "source": [
    "# properties of clusters\n",
    "# draw the number of true clusters - Ntrue - from a binomial distribution.\n",
    "Ntrue = np.random.binomial(N, p_gt)"
   ]
  },
  {
   "cell_type": "code",
   "execution_count": 72,
   "metadata": {},
   "outputs": [],
   "source": [
    "# properties of taggers\n",
    "# draw the values of the pi's from a uniform distribution in [0,1]\n",
    "p = np.random.uniform(low=0.5, high=1, size=(Nt)) #p[i] is the detection probability of tagger i\n",
    "q = np.random.uniform(low=0, high=0.25, size=(Nt)) #q[i] is the false detection probability of tagger i"
   ]
  },
  {
   "cell_type": "code",
   "execution_count": 73,
   "metadata": {},
   "outputs": [],
   "source": [
    "# simulate tags for each of the clusters\n",
    "clusters = [None]*N\n",
    "# use the first Ntrue spots in clusters to store the true positive cluster (since our method won't rely on this)\n",
    "for k in range(N):\n",
    "    # k\n",
    "    if k<Ntrue: # the k-th cluster is a true positive cluster\n",
    "        clusters[k] = np.random.binomial(1, p=p) # draw Bernoulli random variables (binomial n=1) for all tags\n",
    "    else: # the k-th cluster is a false positive cluster\n",
    "        clusters[k] = np.random.binomial(1, p=q)\n",
    "        \n",
    "clusters = np.array(clusters) # cast into a N x Nt numpy array"
   ]
  },
  {
   "cell_type": "code",
   "execution_count": 74,
   "metadata": {},
   "outputs": [
    {
     "name": "stdout",
     "output_type": "stream",
     "text": [
      "Number of true clusters:  7983\n",
      "p =  [0.92265254 0.83034147 0.79185647]\n",
      "q =  [0.05005261 0.1132698  0.13309634]\n"
     ]
    }
   ],
   "source": [
    "# properties of the simulated data and taggers:\n",
    "print('Number of true clusters: ', Ntrue)\n",
    "print('p = ', p)\n",
    "print('q = ', q)"
   ]
  },
  {
   "cell_type": "code",
   "execution_count": 75,
   "metadata": {},
   "outputs": [
    {
     "name": "stdout",
     "output_type": "stream",
     "text": [
      "ratio of true positive detection:  [0.9214581  0.82074408 0.79280972]\n",
      "ratio of false positive detection:  [0.04065444 0.11303917 0.12840853]\n"
     ]
    }
   ],
   "source": [
    "# sanity check - the ratio of true, false positives each tagger tagged (should be approximately equal to p, q)\n",
    "ratio_tp_detected = np.mean(clusters[:Ntrue],axis=0)\n",
    "ratio_fp_detected = np.mean(clusters[Ntrue:],axis=0)\n",
    "print('ratio of true positive detection: ', ratio_tp_detected)\n",
    "print('ratio of false positive detection: ', ratio_fp_detected)"
   ]
  },
  {
   "cell_type": "markdown",
   "metadata": {},
   "source": [
    "## Perform estimation"
   ]
  },
  {
   "cell_type": "code",
   "execution_count": 76,
   "metadata": {},
   "outputs": [],
   "source": [
    "def update_Xj(clusters,p_est,q_est,N):\n",
    "    l1 = np.zeros(N)\n",
    "    l0 = np.zeros(N)\n",
    "    \n",
    "    eps = 1e-16\n",
    "\n",
    "    for j in range(N):\n",
    "        l1[j] = sum(clusters[j,:]*np.log(p_est+eps) + (1-clusters[j,:])*np.log(1-p_est+eps))\n",
    "        l0[j] = sum(clusters[j,:]*np.log(q_est+eps) + (1-clusters[j,:])*np.log(1-q_est+eps))\n",
    "\n",
    "    X_est = l1>l0 # 1 if l1>l0, 0 otherwise (this is exactly the argmax)\n",
    "    \n",
    "    return X_est"
   ]
  },
  {
   "cell_type": "markdown",
   "metadata": {},
   "source": [
    "Initialize $\\hat{X}_j$"
   ]
  },
  {
   "cell_type": "code",
   "execution_count": 77,
   "metadata": {},
   "outputs": [],
   "source": [
    "# initialize the estimation of whether a cluster is a true or false positive to be 1 (true) if the number of tags\n",
    "# is above a threshold (can try different thresholds, here trying mean # of cluster tags)\n",
    "num_tags = np.sum(clusters, axis=1) # num_tags[j] = number of tags of cluster j\n",
    "mean_num_tags = np.mean(num_tags)\n",
    "X_est = num_tags > mean_num_tags\n",
    "\n",
    "# try all ones initialization\n",
    "#X_est = np.array([True]*N)"
   ]
  },
  {
   "cell_type": "markdown",
   "metadata": {},
   "source": [
    "Perform iterations to estimate $\\hat{p}_i$, $\\hat{q}_i$, $\\hat{X}_j$"
   ]
  },
  {
   "cell_type": "code",
   "execution_count": 78,
   "metadata": {
    "scrolled": true
   },
   "outputs": [
    {
     "name": "stdout",
     "output_type": "stream",
     "text": [
      "1 0\n",
      "Converged after  1  steps.\n"
     ]
    }
   ],
   "source": [
    "# initialize variables to collect data\n",
    "Ntrue_est_list = []\n",
    "p_list = []\n",
    "q_list = []\n",
    "\n",
    "diff_thresh = 1e-10 # could use anything < 1 since X_est is boolean\n",
    "counter = 0\n",
    "Nsteps_max= 1000 # if no convergence until reached, exit and display message\n",
    "\n",
    "# collect data about initialization\n",
    "Ntrue_est = sum(X_est)\n",
    "Ntrue_est_list.append(Ntrue_est)\n",
    "\n",
    "# perform first step of p, q estimation\n",
    "p_est = np.mean(clusters[X_est,:], axis = 0)\n",
    "q_est = np.mean(clusters[~X_est,:], axis = 0)\n",
    "# collect data\n",
    "p_list.append(p_est)\n",
    "q_list.append(q_est)\n",
    "\n",
    "X_est_prev = X_est\n",
    "X_est = update_Xj(clusters,p,q,N)\n",
    "\n",
    "while sum(X_est != X_est_prev) > diff_thresh:\n",
    "    # update p, q estimation\n",
    "    p_est = np.mean(clusters[X_est,:], axis = 0)\n",
    "    q_est = np.mean(clusters[~X_est,:], axis = 0)\n",
    "    \n",
    "    # collect data\n",
    "    p_list.append(p_est)\n",
    "    q_list.append(q_est)\n",
    "\n",
    "    X_est_prev = X_est\n",
    "    X_est = update_Xj(clusters,p_est,q_est,N)\n",
    "\n",
    "    counter += 1\n",
    "    if counter==Nsteps_max:\n",
    "        print('Exited without converging after ' + str(Nsteps_max) + ' steps.')\n",
    "        break\n",
    "        \n",
    "    print(counter, sum(X_est != X_est_prev))\n",
    "\n",
    "print('Converged after ', counter, ' steps.')"
   ]
  },
  {
   "cell_type": "markdown",
   "metadata": {},
   "source": [
    "# Evaluate results"
   ]
  },
  {
   "cell_type": "markdown",
   "metadata": {},
   "source": [
    "View estimations of $p_i$ and $q_i$ compared to the true values"
   ]
  },
  {
   "cell_type": "code",
   "execution_count": 79,
   "metadata": {},
   "outputs": [
    {
     "data": {
      "text/plain": [
       "array([0.94047143, 0.86349714, 0.83606339])"
      ]
     },
     "execution_count": 79,
     "metadata": {},
     "output_type": "execute_result"
    }
   ],
   "source": [
    "p_est"
   ]
  },
  {
   "cell_type": "code",
   "execution_count": 80,
   "metadata": {},
   "outputs": [
    {
     "data": {
      "text/plain": [
       "array([0.92265254, 0.83034147, 0.79185647])"
      ]
     },
     "execution_count": 80,
     "metadata": {},
     "output_type": "execute_result"
    }
   ],
   "source": [
    "p"
   ]
  },
  {
   "cell_type": "code",
   "execution_count": 81,
   "metadata": {},
   "outputs": [
    {
     "data": {
      "text/plain": [
       "array([0.1509434 , 0.11882778, 0.12444801])"
      ]
     },
     "execution_count": 81,
     "metadata": {},
     "output_type": "execute_result"
    }
   ],
   "source": [
    "q_est"
   ]
  },
  {
   "cell_type": "code",
   "execution_count": 82,
   "metadata": {},
   "outputs": [
    {
     "data": {
      "text/plain": [
       "array([0.05005261, 0.1132698 , 0.13309634])"
      ]
     },
     "execution_count": 82,
     "metadata": {},
     "output_type": "execute_result"
    }
   ],
   "source": [
    "q"
   ]
  },
  {
   "cell_type": "markdown",
   "metadata": {},
   "source": [
    "The lists of q, p estimation values in steps of the algorithm until convergence:"
   ]
  },
  {
   "cell_type": "code",
   "execution_count": 83,
   "metadata": {},
   "outputs": [
    {
     "data": {
      "text/plain": [
       "[array([0.50673854, 0.38005391, 0.34308818]),\n",
       " array([0.1509434 , 0.11882778, 0.12444801])]"
      ]
     },
     "execution_count": 83,
     "metadata": {},
     "output_type": "execute_result"
    }
   ],
   "source": [
    "q_list"
   ]
  },
  {
   "cell_type": "code",
   "execution_count": 84,
   "metadata": {},
   "outputs": [
    {
     "data": {
      "text/plain": [
       "[array([1., 1., 1.]), array([0.94047143, 0.86349714, 0.83606339])]"
      ]
     },
     "execution_count": 84,
     "metadata": {},
     "output_type": "execute_result"
    }
   ],
   "source": [
    "p_list"
   ]
  },
  {
   "cell_type": "markdown",
   "metadata": {},
   "source": [
    "What percent of true / false custers are correctly classified?"
   ]
  },
  {
   "cell_type": "code",
   "execution_count": 85,
   "metadata": {},
   "outputs": [
    {
     "data": {
      "text/plain": [
       "0.9356131780032569"
      ]
     },
     "execution_count": 85,
     "metadata": {},
     "output_type": "execute_result"
    }
   ],
   "source": [
    "ratio_tp_detected_est = np.mean(X_est[:Ntrue])\n",
    "ratio_tp_detected_est"
   ]
  },
  {
   "cell_type": "code",
   "execution_count": 86,
   "metadata": {},
   "outputs": [
    {
     "data": {
      "text/plain": [
       "0.9801685671789787"
      ]
     },
     "execution_count": 86,
     "metadata": {},
     "output_type": "execute_result"
    }
   ],
   "source": [
    "ratio_fp_correctly_classified = np.mean(~X_est[Ntrue:])\n",
    "ratio_fp_correctly_classified"
   ]
  },
  {
   "cell_type": "code",
   "execution_count": 87,
   "metadata": {},
   "outputs": [
    {
     "data": {
      "text/plain": [
       "0.9446"
      ]
     },
     "execution_count": 87,
     "metadata": {},
     "output_type": "execute_result"
    }
   ],
   "source": [
    "rat_correct_est = np.mean(np.concatenate((X_est[:Ntrue],~X_est[Ntrue:])))\n",
    "rat_correct_est"
   ]
  },
  {
   "cell_type": "markdown",
   "metadata": {},
   "source": [
    "Compare to naive estimate of $X_j$ by thresholding: decide cluster is true if # of tags in it > threshold.\n",
    "\n",
    "For threshold=$N_t/2$ this is majority vote"
   ]
  },
  {
   "cell_type": "code",
   "execution_count": 88,
   "metadata": {},
   "outputs": [],
   "source": [
    "thresh_list = np.arange(0,3)\n",
    "rat_tp_correct = np.zeros(len(thresh_list))\n",
    "rat_fp_correct = np.zeros(len(thresh_list))\n",
    "rat_correct = np.zeros(len(thresh_list))\n",
    "for i, thresh in enumerate(thresh_list):\n",
    "    X_est_thresh = np.sum(clusters, axis=1)>thresh\n",
    "    rat_tp_correct[i] = np.mean(X_est_thresh[:Ntrue])\n",
    "    rat_fp_correct[i] = np.mean(~X_est_thresh[Ntrue:])\n",
    "    rat_correct[i] = np.mean(np.concatenate((X_est_thresh[:Ntrue],~X_est_thresh[Ntrue:])))"
   ]
  },
  {
   "cell_type": "code",
   "execution_count": 89,
   "metadata": {},
   "outputs": [
    {
     "data": {
      "text/plain": [
       "Text(0, 0.5, '<correctly classified clusters>')"
      ]
     },
     "execution_count": 89,
     "metadata": {},
     "output_type": "execute_result"
    },
    {
     "data": {
      "image/png": "[encoded data removed]",
      "text/plain": [
       "<Figure size 432x288 with 1 Axes>"
      ]
     },
     "metadata": {
      "needs_background": "light"
     },
     "output_type": "display_data"
    }
   ],
   "source": [
    "plt.plot(thresh_list,rat_tp_correct,'.--b')\n",
    "plt.plot(thresh_list,rat_fp_correct,'.--r')\n",
    "plt.plot(thresh_list,rat_correct,'.--k')\n",
    "plt.plot(thresh_list,np.ones(len(thresh_list))*ratio_tp_detected_est,'b')\n",
    "plt.plot(thresh_list,np.ones(len(thresh_list))*ratio_fp_correctly_classified,'r')\n",
    "plt.plot(thresh_list,np.ones(len(thresh_list))*rat_correct_est,'k')\n",
    "plt.xlabel('threshold')\n",
    "plt.ylabel('<correctly classified clusters>')"
   ]
  },
  {
   "cell_type": "markdown",
   "metadata": {},
   "source": [
    "Calculte the MSE for p, q estimation"
   ]
  },
  {
   "cell_type": "code",
   "execution_count": 90,
   "metadata": {},
   "outputs": [
    {
     "data": {
      "text/plain": [
       "0.0011236878155561209"
      ]
     },
     "execution_count": 90,
     "metadata": {},
     "output_type": "execute_result"
    }
   ],
   "source": [
    "np.mean((p-p_est)**2)"
   ]
  },
  {
   "cell_type": "code",
   "execution_count": 91,
   "metadata": {},
   "outputs": [
    {
     "data": {
      "text/plain": [
       "0.003428211793215932"
      ]
     },
     "execution_count": 91,
     "metadata": {},
     "output_type": "execute_result"
    }
   ],
   "source": [
    "np.mean((q-q_est)**2)"
   ]
  },
  {
   "cell_type": "code",
   "execution_count": null,
   "metadata": {},
   "outputs": [],
   "source": []
  },
  {
   "cell_type": "code",
   "execution_count": null,
   "metadata": {},
   "outputs": [],
   "source": []
  },
  {
   "cell_type": "code",
   "execution_count": null,
   "metadata": {},
   "outputs": [],
   "source": []
  },
  {
   "cell_type": "code",
   "execution_count": null,
   "metadata": {},
   "outputs": [],
   "source": []
  },
  {
   "cell_type": "code",
   "execution_count": 20,
   "metadata": {},
   "outputs": [
    {
     "data": {
      "text/plain": [
       "array([False,  True])"
      ]
     },
     "execution_count": 20,
     "metadata": {},
     "output_type": "execute_result"
    }
   ],
   "source": [
    "np.unique(X_est)"
   ]
  },
  {
   "cell_type": "code",
   "execution_count": null,
   "metadata": {},
   "outputs": [],
   "source": []
  },
  {
   "cell_type": "code",
   "execution_count": null,
   "metadata": {},
   "outputs": [],
   "source": []
  }
 ],
 "metadata": {
  "kernelspec": {
   "display_name": "Python 3",
   "language": "python",
   "name": "python3"
  },
  "language_info": {
   "codemirror_mode": {
    "name": "ipython",
    "version": 3
   },
   "file_extension": ".py",
   "mimetype": "text/x-python",
   "name": "python",
   "nbconvert_exporter": "python",
   "pygments_lexer": "ipython3",
   "version": "3.7.6"
  }
 },
 "nbformat": 4,
 "nbformat_minor": 4
}
