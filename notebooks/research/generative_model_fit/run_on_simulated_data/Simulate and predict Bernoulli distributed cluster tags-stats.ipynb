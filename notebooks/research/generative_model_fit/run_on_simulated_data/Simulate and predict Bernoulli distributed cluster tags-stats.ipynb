{
 "cells": [
  {
   "cell_type": "markdown",
   "metadata": {},
   "source": [
    "# Simulate Bernoulli distributed tags for Bernoulli distributed true/false clusters\n",
    "### Simulate Ns different instances of data, perform estimation, and collect statistics about estimation results"
   ]
  },
  {
   "cell_type": "markdown",
   "metadata": {},
   "source": [
    "1. Simulate N clusters. With probability p, each cluster is a \"true positive\". With 1-p it is a \"false positive\".\n",
    "2. Simulate Nt tags (by Nt different taggers) for each cluster. These tags are 0/1 and denote the existence of a tag referring to each cluster by each tagger. Denote: $X_j=1$ if cluster $j$ is a true positive, $X_j=0$ otherwise.\n",
    "If a cluster if a true positive, tagger i tags the cluster with probability $p_i$.\n",
    "If a cluster if a false positive, tagger i tags the cluster with probability $q_i$.\n",
    "3. Perform iterative algorithm to estimate $X_j$, $p_i$, $q_i$."
   ]
  },
  {
   "cell_type": "code",
   "execution_count": 2,
   "metadata": {},
   "outputs": [],
   "source": [
    "import numpy as np\n",
    "from numpy import linalg as LA\n",
    "import matplotlib.pyplot as plt"
   ]
  },
  {
   "cell_type": "markdown",
   "metadata": {},
   "source": [
    "### Define functions that 1. Simulate the data 2. Run the estimation procedure"
   ]
  },
  {
   "cell_type": "code",
   "execution_count": 3,
   "metadata": {},
   "outputs": [],
   "source": [
    "def simulate_data(N, Nt, p_gt, p_lims=(0.5,1),q_lims=(0,0.25)):\n",
    "    ''' Simulate random clusters, tagger properties, and tags\n",
    "    \n",
    "    Args:\n",
    "    N (int): The number of ground truth points to simulate\n",
    "    Nt (ind): The number of taggers\n",
    "    p_gt (float): The probability of a cluster to be a true positive\n",
    "    \n",
    "    Returns:\n",
    "    Ntrue (int): the number of true clusters (0<=Ntrue<=N). Data of true clusters\n",
    "    will be saved in indices 0:Ntrue, data of false clusters in Ntrue:\n",
    "    p (length Nt array): p[i] is the detection probability of tagger i\n",
    "    q (length Nt array): q[i] is the false detection probability of tagger i\n",
    "    clusters[j] ((N, Nt) array): the tags generated for the j-th cluster\n",
    "    '''\n",
    "    # properties of clusters\n",
    "    # draw the number of true clusters - Ntrue - from a binomial distribution.\n",
    "    Ntrue = np.random.binomial(N, p_gt)\n",
    "    \n",
    "    # properties of taggers\n",
    "    p_low, p_high = p_lims\n",
    "    q_low, q_high = q_lims\n",
    "    # draw the values of the pi's from a uniform distribution in [0,1]\n",
    "    p = np.random.uniform(low=p_low, high=p_high, size=(Nt)) #p[i] is the detection probability of tagger i\n",
    "    q = np.random.uniform(low=q_low, high=q_high, size=(Nt)) #q[i] is the false detection probability of tagger i\n",
    "    \n",
    "    # simulate tags for each of the clusters\n",
    "    clusters = [None]*N\n",
    "    # use the first Ntrue spots in clusters to store the true positive cluster (since our method won't rely on this)\n",
    "    for k in range(N):\n",
    "        # k\n",
    "        if k<Ntrue: # the k-th cluster is a true positive cluster\n",
    "            clusters[k] = np.random.binomial(1, p=p) # draw Bernoulli random variables (binomial n=1) for all tags\n",
    "        else: # the k-th cluster is a false positive cluster\n",
    "            clusters[k] = np.random.binomial(1, p=q)\n",
    "\n",
    "    clusters = np.array(clusters) # cast into a N x Nt numpy array\n",
    "    \n",
    "    return (p, q, clusters, Ntrue)"
   ]
  },
  {
   "cell_type": "code",
   "execution_count": 4,
   "metadata": {},
   "outputs": [],
   "source": [
    "def update_Xj(clusters,p_est,q_est,N):\n",
    "    l1 = np.zeros(N)\n",
    "    l0 = np.zeros(N)\n",
    "    \n",
    "    eps = 1e-16\n",
    "\n",
    "    for j in range(N):\n",
    "        l1[j] = sum(clusters[j,:]*np.log(p_est+eps) + (1-clusters[j,:])*np.log(1-p_est+eps))\n",
    "        l0[j] = sum(clusters[j,:]*np.log(q_est+eps) + (1-clusters[j,:])*np.log(1-q_est+eps))\n",
    "\n",
    "    X_est = l1>l0 # 1 if l1>l0, 0 otherwise (this is exactly the argmax)\n",
    "    \n",
    "    return X_est"
   ]
  },
  {
   "cell_type": "code",
   "execution_count": 5,
   "metadata": {},
   "outputs": [],
   "source": [
    "def perform_estimation(N,Nt,clusters):\n",
    "    # initialize X_est - \n",
    "    #  the estimation of whether a cluster is a true or false positive to be 1 (true) if the number of tags\n",
    "    # is above a threshold (can try different thresholds, here trying mean # of cluster tags)\n",
    "    num_tags = np.sum(clusters, axis=1) # num_tags[j] = number of tags of cluster j\n",
    "    mean_num_tags = np.mean(num_tags)\n",
    "    X_est = num_tags > mean_num_tags\n",
    "\n",
    "    # try all ones initialization\n",
    "    #X_est = np.array([True]*N)\n",
    "    \n",
    "    # perform iterations the estimate p, q, X\n",
    "    diff_thresh = 1e-10 # could use anything < 1 since X_est is boolean\n",
    "    counter = 0\n",
    "    Nsteps_max= 1000 # if no convergence until reached, exit and display message\n",
    "\n",
    "    ## collect data about initialization\n",
    "    #Ntrue_est = sum(X_est)\n",
    "\n",
    "    # perform first step of p, q estimation\n",
    "    p_est = np.mean(clusters[X_est,:], axis = 0)\n",
    "    q_est = np.mean(clusters[~X_est,:], axis = 0)\n",
    "\n",
    "    X_est_prev = X_est\n",
    "    X_est = update_Xj(clusters,p,q,N)\n",
    "\n",
    "    while sum(X_est != X_est_prev) > diff_thresh:\n",
    "        # update p, q estimation\n",
    "        p_est = np.mean(clusters[X_est,:], axis = 0)\n",
    "        q_est = np.mean(clusters[~X_est,:], axis = 0)\n",
    "\n",
    "        X_est_prev = X_est\n",
    "        X_est = update_Xj(clusters,p_est,q_est,N)\n",
    "\n",
    "        counter += 1\n",
    "        if counter==Nsteps_max:\n",
    "            print('Exited without converging after ' + str(Nsteps_max) + ' steps.')\n",
    "            break\n",
    "\n",
    "    return (X_est, p_est, q_est)"
   ]
  },
  {
   "cell_type": "code",
   "execution_count": 6,
   "metadata": {},
   "outputs": [],
   "source": [
    "Ns = 100 # number of repeats for each parameter value\n",
    "N = 5000 # number of points simulated in each instance\n",
    "Nt = 10 # number of taggers\n",
    "#q_max_list = np.arange(0.1,1,0.1)\n",
    "#Nq = len(q_max_list)\n",
    "p_gt = 0.8 # probability of a cluster to be a true positive\n",
    "p_gt = 0.5\n",
    "#q_lim = (0, 0.25)\n",
    "q_lim = (0, 0.25)\n",
    "p_lim = (0.5, 1)\n",
    "\n",
    "thresh_list = np.arange(0,Nt)"
   ]
  },
  {
   "cell_type": "code",
   "execution_count": 7,
   "metadata": {},
   "outputs": [],
   "source": [
    "# initialize variables to collect stats\n",
    "#(X_est, p_est, q_est)\n",
    "#(p, q, clusters)\n",
    "rat_tp_correct = np.zeros((Ns)) # ratio of true positive clusters correctly classified as true\n",
    "rat_fp_correct = np.zeros((Ns)) # ratio of false clusters correctly classified as false\n",
    "rat_correct = np.zeros((Ns)) # ratio of correct classifications (overall - both true and false clusters)\n",
    "# stats for naive thresholding\n",
    "rat_tp_correct_thresh = np.zeros((Ns,Nt))\n",
    "rat_fp_correct_thresh = np.zeros((Ns,Nt))\n",
    "rat_correct_thresh = np.zeros((Ns,Nt))"
   ]
  },
  {
   "cell_type": "code",
   "execution_count": 8,
   "metadata": {},
   "outputs": [
    {
     "name": "stdout",
     "output_type": "stream",
     "text": [
      "0.8719861626625061\n"
     ]
    }
   ],
   "source": [
    "import time\n",
    "t = time.time()\n",
    "\n",
    "# for each instance of simulated data, perform the estimation with varying beta\n",
    "for i in range(Ns):\n",
    "    # simulate data\n",
    "    p, q, clusters, Ntrue = simulate_data(N, Nt, p_gt=p_gt, p_lims=p_lim, q_lims=q_lim)\n",
    "    \n",
    "    # perform estimation\n",
    "    X_est, p_est, q_est = perform_estimation(N, Nt, clusters)\n",
    "    \n",
    "    # calculate and collect stats\n",
    "    rat_tp_correct[i] = np.mean(X_est[:Ntrue])\n",
    "    rat_fp_correct[i] = np.mean(~X_est[Ntrue:])\n",
    "    rat_correct[i] = np.mean(np.concatenate((X_est[:Ntrue],~X_est[Ntrue:])))\n",
    "    \n",
    "    for j, thresh in enumerate(thresh_list):\n",
    "        X_est_thresh = np.sum(clusters, axis=1)>thresh\n",
    "        rat_tp_correct_thresh[i,j] = np.mean(X_est_thresh[:Ntrue])\n",
    "        rat_fp_correct_thresh[i,j] = np.mean(~X_est_thresh[Ntrue:])\n",
    "        rat_correct_thresh[i,j] = np.mean(np.concatenate((X_est_thresh[:Ntrue],~X_est_thresh[Ntrue:])))\n",
    "    \n",
    "\n",
    "elapsed = time.time() - t\n",
    "print(elapsed/60)"
   ]
  },
  {
   "cell_type": "markdown",
   "metadata": {},
   "source": [
    "## Calculate means and plot results"
   ]
  },
  {
   "cell_type": "code",
   "execution_count": 9,
   "metadata": {},
   "outputs": [],
   "source": [
    "import scipy\n",
    "from scipy import stats\n",
    "\n",
    "mean_rat_tp_correct = np.mean(rat_tp_correct)\n",
    "sem_rat_tp_correct = scipy.stats.sem(rat_tp_correct)\n",
    "mean_rat_fp_correct = np.mean(rat_fp_correct)\n",
    "sem_rat_fp_correct = scipy.stats.sem(rat_fp_correct)\n",
    "mean_rat_correct = np.mean(rat_correct)\n",
    "sem_rat_correct = scipy.stats.sem(rat_correct)\n",
    "\n",
    "mean_rat_tp_correct_thresh = np.mean(rat_tp_correct_thresh,axis=0) # mean over Ns simulated data instances\n",
    "sem_rat_tp_correct_thresh = scipy.stats.sem(rat_tp_correct_thresh,axis=0) # sem over Ns simulated data instances\n",
    "mean_rat_fp_correct_thresh = np.mean(rat_fp_correct_thresh,axis=0) # mean over Ns simulated data instances\n",
    "sem_rat_fp_correct_thresh = scipy.stats.sem(rat_fp_correct_thresh,axis=0) # sem over Ns simulated data instances\n",
    "mean_rat_correct_thresh = np.mean(rat_correct_thresh,axis=0) # mean over Ns simulated data instances\n",
    "sem_rat_correct_thresh = scipy.stats.sem(rat_correct_thresh,axis=0) # sem over Ns simulated data instances"
   ]
  },
  {
   "cell_type": "code",
   "execution_count": 11,
   "metadata": {},
   "outputs": [
    {
     "data": {
      "image/png": "[encoded data removed]",
      "text/plain": [
       "<Figure size 432x288 with 1 Axes>"
      ]
     },
     "metadata": {
      "needs_background": "light"
     },
     "output_type": "display_data"
    }
   ],
   "source": [
    "h = [None]*3\n",
    "\n",
    "h[0], = plt.plot(thresh_list,mean_rat_tp_correct_thresh,'.--b',markersize=10)\n",
    "h[1], = plt.plot(thresh_list,mean_rat_fp_correct_thresh,'.--r',markersize=10)\n",
    "h[2], = plt.plot(thresh_list,mean_rat_correct_thresh,'.--k',markersize=10)\n",
    "plt.plot(thresh_list,np.ones(Nt)*mean_rat_tp_correct,'b')\n",
    "plt.plot(thresh_list,np.ones(Nt)*mean_rat_fp_correct,'r')\n",
    "plt.plot(thresh_list,np.ones(Nt)*mean_rat_correct,'k')\n",
    "\n",
    "#plt.fill_between(thresh_list, mean_rat_tp_correct_thresh - sem_rat_tp_correct_thresh, mean_rat_tp_correct_thresh + sem_rat_tp_correct_thresh, color='blue', alpha=0.2)\n",
    "#plt.fill_between(thresh_list, mean_rat_fp_correct_thresh - sem_rat_fp_correct_thresh, mean_rat_fp_correct_thresh + sem_rat_fp_correct_thresh, color='red', alpha=0.2)\n",
    "#plt.fill_between(thresh_list, mean_rat_correct_thresh - sem_rat_correct_thresh, mean_rat_correct_thresh + sem_rat_correct_thresh, color='black', alpha=0.2)\n",
    "# when sem is small - no need to display it\n",
    "\n",
    "plt.xlabel('threshold',fontsize=16)\n",
    "plt.ylabel('<ratio correctly classified>',fontsize=16)\n",
    "plt.xticks(fontsize=14)\n",
    "plt.yticks(fontsize=14);\n",
    "plt.legend(h, ('tp','fp','total'));"
   ]
  },
  {
   "cell_type": "code",
   "execution_count": null,
   "metadata": {},
   "outputs": [],
   "source": []
  },
  {
   "cell_type": "code",
   "execution_count": null,
   "metadata": {},
   "outputs": [],
   "source": []
  },
  {
   "cell_type": "code",
   "execution_count": null,
   "metadata": {},
   "outputs": [],
   "source": []
  },
  {
   "cell_type": "code",
   "execution_count": null,
   "metadata": {},
   "outputs": [],
   "source": []
  },
  {
   "cell_type": "code",
   "execution_count": null,
   "metadata": {},
   "outputs": [],
   "source": []
  },
  {
   "cell_type": "code",
   "execution_count": null,
   "metadata": {},
   "outputs": [],
   "source": []
  },
  {
   "cell_type": "code",
   "execution_count": null,
   "metadata": {},
   "outputs": [],
   "source": []
  },
  {
   "cell_type": "code",
   "execution_count": null,
   "metadata": {},
   "outputs": [],
   "source": []
  }
 ],
 "metadata": {
  "kernelspec": {
   "display_name": "Python 3",
   "language": "python",
   "name": "python3"
  },
  "language_info": {
   "codemirror_mode": {
    "name": "ipython",
    "version": 3
   },
   "file_extension": ".py",
   "mimetype": "text/x-python",
   "name": "python",
   "nbconvert_exporter": "python",
   "pygments_lexer": "ipython3",
   "version": "3.7.6"
  }
 },
 "nbformat": 4,
 "nbformat_minor": 4
}
